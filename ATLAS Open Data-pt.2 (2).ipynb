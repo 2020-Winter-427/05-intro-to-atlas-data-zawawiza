{
 "cells": [
  {
   "cell_type": "markdown",
   "metadata": {},
   "source": [
    "**Intro to ATLAS Data Pt.2**  \n",
    "Ziyad Zawawi  \n",
    "Phys427"
   ]
  },
  {
   "cell_type": "markdown",
   "metadata": {},
   "source": [
    "Lorentz 4-vectors informs us about the energy and momentum of a particle. The values saved in the vectors don't change under any transformation, thus, having the same values in every frame of reference. The Lorentz 4-vectors are especially important for us because we can calculate the invariant mass of particles from them. When a particle decays, we are able to calculate its invariant mass from the energy and momentum of the decay products."
   ]
  },
  {
   "cell_type": "code",
   "execution_count": 1,
   "metadata": {},
   "outputs": [],
   "source": [
    "import numpy as np\n",
    "import pandas as pd\n",
    "import uproot\n",
    "import matplotlib.pyplot as plt\n",
    "import awkward \n",
    "import uproot_methods"
   ]
  },
  {
   "cell_type": "code",
   "execution_count": 2,
   "metadata": {},
   "outputs": [],
   "source": [
    "# Importing the MC tree\n",
    "file1 = uproot.open(\"mc_361106.Zee.4lep.root\")[\"mini\"]\n",
    "\n",
    "# Extracting the needed values as arrays from the leaves \n",
    "lep_E, lep_pt, lep_eta, lep_phi = file1.arrays([\"lep_E\", \"lep_pt\", \"lep_eta\", \"lep_phi\"], outputtype=tuple)\n",
    "lep_n, lep_charge, lep_type = file1.arrays([\"lep_n\", \"lep_charge\", \"lep_type\"], outputtype=tuple)"
   ]
  },
  {
   "cell_type": "markdown",
   "metadata": {},
   "source": [
    "Following the same cuts that satisfy the requirement for a Z-ee decay, I first obtain the charges and the types of the leptons in a jagged array. That will allow us to create left and right pairs in order to compare them. As the pair of the leptons have to have opposite charge and the pair of leptons have to be of the same kind. Thus, by creating maskc for the first cut and maskt for the second cut, I'm able to make that comparison. Applying the mask to the E, pt, eta, and phi arrays to take of them only what satisfy. I'm ignoring the cut that concerns having at least two leptons because the file I'm using has the decay to at least 4 leptons."
   ]
  },
  {
   "cell_type": "code",
   "execution_count": 3,
   "metadata": {},
   "outputs": [],
   "source": [
    "charge = lep_charge.distincts()\n",
    "lepType = lep_type.distincts()"
   ]
  },
  {
   "cell_type": "code",
   "execution_count": 4,
   "metadata": {},
   "outputs": [],
   "source": [
    "# Making maskc \n",
    "leftc, rightc = charge.unzip()\n",
    "maskc = leftc != rightc\n",
    "\n",
    "opposite_charge = charge[maskc]"
   ]
  },
  {
   "cell_type": "code",
   "execution_count": 5,
   "metadata": {},
   "outputs": [],
   "source": [
    "# Making maskt \n",
    "opposite_t = lepType[maskc]\n",
    "leftt, rightt = opposite_t.unzip()\n",
    "maskt = leftt == rightt"
   ]
  },
  {
   "cell_type": "code",
   "execution_count": 6,
   "metadata": {},
   "outputs": [],
   "source": [
    "# Apply my maskc and maskt to the values we want to cut\n",
    "pt = lep_pt.distincts()\n",
    "opposite_pt = pt[maskc]\n",
    "type_pt = opposite_pt[maskt]\n",
    "leftpt, rightpt = type_pt.unzip()\n",
    "\n",
    "eta = lep_eta.distincts()\n",
    "opposite_eta = eta[maskc]\n",
    "type_eta = opposite_eta[maskt]\n",
    "lefteta, righteta = type_eta.unzip()\n",
    "\n",
    "phi = lep_phi.distincts()\n",
    "opposite_phi = phi[maskc]\n",
    "type_phi = opposite_phi[maskt]\n",
    "leftphi, rightphi = type_phi.unzip()\n",
    "\n",
    "E = lep_E.distincts()\n",
    "opposite_E = E[maskc]\n",
    "type_E = opposite_E[maskt]\n",
    "leftE, rightE = type_E.unzip()"
   ]
  },
  {
   "cell_type": "code",
   "execution_count": 7,
   "metadata": {},
   "outputs": [],
   "source": [
    "# Calculating the invariant mass after putting the split E, phi, etc.. \n",
    "# into TLorentzVectrorArray.\n",
    "lead_lep = uproot_methods.TLorentzVectorArray.from_ptetaphie(rightpt/1000., righteta, rightphi, rightE/1000.)\n",
    "trail_lep = uproot_methods.TLorentzVectorArray.from_ptetaphie(leftpt/1000., lefteta, leftphi, leftE/1000.)\n",
    "\n",
    "invmass = np.sqrt(((lead_lep.t + trail_lep.t)**2) - (lead_lep.x + trail_lep.x)**2 -\n",
    "                    (lead_lep.y + trail_lep.y)**2 - (lead_lep.z + trail_lep.z)**2)\n",
    "\n"
   ]
  },
  {
   "cell_type": "code",
   "execution_count": 8,
   "metadata": {},
   "outputs": [
    {
     "data": {
      "image/png": "[encoded data removed]",
      "text/plain": [
       "<Figure size 432x288 with 1 Axes>"
      ]
     },
     "metadata": {},
     "output_type": "display_data"
    }
   ],
   "source": [
    "# Plotting histogram of invariant mass calculated\n",
    "counts, edges = np.histogram(invmass.flatten(), bins=15)\n",
    "plt.step(x=edges, y=np.append(counts, 0), where=\"post\");\n",
    "plt.xlim(edges[0], edges[-1]);\n",
    "plt.ylim(0, counts.max() * 1.1);\n",
    "plt.title(\"Invariant Mass of Z Boson for MC Data\")\n",
    "plt.ylabel(\"count\");\n",
    "plt.xlabel(\"mass\");\n",
    "plt.show()"
   ]
  },
  {
   "cell_type": "code",
   "execution_count": 9,
   "metadata": {},
   "outputs": [],
   "source": [
    "# Repeating the same process but with using the data file\n",
    "file2 = uproot.open(\"data_A.4lep.root\")[\"mini\"]\n",
    "\n",
    "# Extracting the needed values as arrays from the leaves \n",
    "lep_E2, lep_pt2, lep_eta2, lep_phi2 = file2.arrays([\"lep_E\", \"lep_pt\", \"lep_eta\", \"lep_phi\"], outputtype=tuple)\n",
    "lep_n2, lep_charge2, lep_type2 = file2.arrays([\"lep_n\", \"lep_charge\", \"lep_type\"], outputtype=tuple)"
   ]
  },
  {
   "cell_type": "code",
   "execution_count": 10,
   "metadata": {},
   "outputs": [],
   "source": [
    "charge2 = lep_charge2.distincts()\n",
    "lepType2 = lep_type2.distincts()"
   ]
  },
  {
   "cell_type": "code",
   "execution_count": 11,
   "metadata": {},
   "outputs": [],
   "source": [
    "leftc2, rightc2 = charge2.unzip()\n",
    "maskc2 = leftc2 != rightc2\n",
    "\n",
    "opposite_charge2 = charge2[maskc2]"
   ]
  },
  {
   "cell_type": "code",
   "execution_count": 12,
   "metadata": {},
   "outputs": [],
   "source": [
    "opposite_t2 = lepType2[maskc2]\n",
    "leftt2, rightt2 = opposite_t2.unzip()\n",
    "maskt2 = leftt2 == rightt2"
   ]
  },
  {
   "cell_type": "code",
   "execution_count": 13,
   "metadata": {},
   "outputs": [],
   "source": [
    "pt2 = lep_pt2.distincts()\n",
    "opposite_pt2 = pt2[maskc2]\n",
    "type_pt2 = opposite_pt2[maskt2]\n",
    "leftpt2, rightpt2 = type_pt2.unzip()\n",
    "\n",
    "\n",
    "eta2 = lep_eta2.distincts()\n",
    "opposite_eta2 = eta2[maskc2]\n",
    "type_eta2 = opposite_eta2[maskt2]\n",
    "lefteta2, righteta2 = type_eta2.unzip()\n",
    "\n",
    "phi2 = lep_phi2.distincts()\n",
    "opposite_phi2 = phi2[maskc2]\n",
    "type_phi2 = opposite_phi2[maskt2]\n",
    "leftphi2, rightphi2 = type_phi2.unzip()\n",
    "\n",
    "E2 = lep_E2.distincts()\n",
    "opposite_E2 = E2[maskc2]\n",
    "type_E2 = opposite_E2[maskt2]\n",
    "leftE2, rightE2 = type_E2.unzip()"
   ]
  },
  {
   "cell_type": "code",
   "execution_count": 14,
   "metadata": {},
   "outputs": [],
   "source": [
    "lead_lep2 = uproot_methods.TLorentzVectorArray.from_ptetaphie(rightpt2/1000., righteta2, rightphi2, rightE2/1000.)\n",
    "trail_lep2 = uproot_methods.TLorentzVectorArray.from_ptetaphie(leftpt2/1000., lefteta2, leftphi2, leftE2/1000.)\n",
    "\n",
    "invmass2 = np.sqrt(((lead_lep2.t + trail_lep2.t)**2) - (lead_lep2.x + trail_lep2.x)**2 -\n",
    "                    (lead_lep2.y + trail_lep2.y)**2 - (lead_lep2.z + trail_lep2.z)**2)"
   ]
  },
  {
   "cell_type": "code",
   "execution_count": 15,
   "metadata": {},
   "outputs": [
    {
     "data": {
      "image/png": "[encoded data removed]",
      "text/plain": [
       "<Figure size 432x288 with 1 Axes>"
      ]
     },
     "metadata": {},
     "output_type": "display_data"
    }
   ],
   "source": [
    "counts, edges = np.histogram(invmass2.flatten(), bins=15)\n",
    "plt.step(x=edges, y=np.append(counts, 0), where=\"post\");\n",
    "plt.xlim(edges[0], edges[-1]);\n",
    "plt.ylim(0, counts.max() * 1.1);\n",
    "plt.ylabel(\"count\");\n",
    "plt.xlabel(\"mass\");\n",
    "plt.title(\"Invariant Mass of Z Boson\")\n",
    "plt.show()"
   ]
  }
 ],
 "metadata": {
  "kernelspec": {
   "display_name": "Python 3",
   "language": "python",
   "name": "python3"
  },
  "language_info": {
   "codemirror_mode": {
    "name": "ipython",
    "version": 3
   },
   "file_extension": ".py",
   "mimetype": "text/x-python",
   "name": "python",
   "nbconvert_exporter": "python",
   "pygments_lexer": "ipython3",
   "version": "3.6.10"
  }
 },
 "nbformat": 4,
 "nbformat_minor": 2
}
