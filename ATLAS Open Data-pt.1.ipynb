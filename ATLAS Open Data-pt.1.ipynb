{
 "cells": [
  {
   "cell_type": "markdown",
   "metadata": {},
   "source": [
    "**Intro to ATLAS Data Pt.1**  \n",
    "Ziyad Zawawi\n",
    "Phys 427"
   ]
  },
  {
   "cell_type": "code",
   "execution_count": 17,
   "metadata": {},
   "outputs": [],
   "source": [
    "import numpy as np\n",
    "import uproot\n",
    "import matplotlib.pyplot as plt"
   ]
  },
  {
   "cell_type": "code",
   "execution_count": 15,
   "metadata": {},
   "outputs": [],
   "source": [
    "file1 = uproot.open(\"data_A.4lep.root\")\n",
    "file2 = uproot.open(\"data_B.4lep.root\")\n",
    "file3 = uproot.open(\"data_C.4lep.root\")\n",
    "file4 = uproot.open(\"data_D.4lep.root\")\n",
    "\n",
    "\n",
    "tree1 = file1[\"mini\"]\n",
    "tree2 = file2[\"mini\"]\n",
    "tree3 = file3[\"mini\"]\n",
    "tree4 = file4[\"mini\"]\n",
    "\n",
    "lepton_n1 = tree1.array(\"lep_n\")\n",
    "lepton_n2 = tree2.array(\"lep_n\")\n",
    "lepton_n3 = tree3.array(\"lep_n\")\n",
    "lepton_n4 = tree4.array(\"lep_n\")\n",
    "\n",
    "\n",
    "args = (lepton_n1, lepton_n2, lepton_n3, lepton_n4)\n",
    "leptons = np.concatenate(args)"
   ]
  },
  {
   "cell_type": "code",
   "execution_count": 18,
   "metadata": {},
   "outputs": [
    {
     "data": {
      "image/png": "[encoded data removed]",
      "text/plain": [
       "<Figure size 432x288 with 1 Axes>"
      ]
     },
     "metadata": {},
     "output_type": "display_data"
    }
   ],
   "source": [
    "# Plotting the histogram\n",
    "plt.hist(leptons, bins= np.arange(min(leptons), max(leptons)+2, 1))\n",
    "plt.yscale(\"log\")\n",
    "plt.title(\"Number of leptons\")\n",
    "plt.ylabel(\"Count\")\n",
    "plt.xlabel(\"Number\")\n",
    "plt.show()"
   ]
  }
 ],
 "metadata": {
  "kernelspec": {
   "display_name": "Python 3",
   "language": "python",
   "name": "python3"
  },
  "language_info": {
   "codemirror_mode": {
    "name": "ipython",
    "version": 3
   },
   "file_extension": ".py",
   "mimetype": "text/x-python",
   "name": "python",
   "nbconvert_exporter": "python",
   "pygments_lexer": "ipython3",
   "version": "3.6.10"
  }
 },
 "nbformat": 4,
 "nbformat_minor": 2
}
